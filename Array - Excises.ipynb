{
 "cells": [
  {
   "cell_type": "markdown",
   "metadata": {},
   "source": [
    "Dynamic Array"
   ]
  },
  {
   "cell_type": "code",
   "execution_count": 1,
   "metadata": {},
   "outputs": [],
   "source": [
    "import sys"
   ]
  },
  {
   "cell_type": "code",
   "execution_count": 5,
   "metadata": {},
   "outputs": [
    {
     "name": "stdout",
     "output_type": "stream",
     "text": [
      "Length:  0; Size in bytes:  56 \n",
      "Length:  1; Size in bytes:  88 \n",
      "Length:  2; Size in bytes:  88 \n",
      "Length:  3; Size in bytes:  88 \n",
      "Length:  4; Size in bytes:  88 \n",
      "Length:  5; Size in bytes: 120 \n",
      "Length:  6; Size in bytes: 120 \n",
      "Length:  7; Size in bytes: 120 \n",
      "Length:  8; Size in bytes: 120 \n",
      "Length:  9; Size in bytes: 184 \n"
     ]
    }
   ],
   "source": [
    "n = 10\n",
    "data = []\n",
    "\n",
    "for i in range(n):\n",
    "    \n",
    "    a = len(data)\n",
    "    b = sys.getsizeof(data)\n",
    "    \n",
    "    print('Length:{0:3d}; Size in bytes:{1:4d} '.format(a,b))\n",
    "    \n",
    "    data.append(n)"
   ]
  },
  {
   "cell_type": "markdown",
   "metadata": {},
   "source": [
    "Create Dynamic Array"
   ]
  },
  {
   "cell_type": "code",
   "execution_count": 12,
   "metadata": {},
   "outputs": [],
   "source": [
    "import ctypes #python 自带的dict存储形式"
   ]
  },
  {
   "cell_type": "code",
   "execution_count": 16,
   "metadata": {},
   "outputs": [],
   "source": [
    "class DynamicArray(object):\n",
    "    \n",
    "    def __init__(self):\n",
    "        self.n = 0\n",
    "        self.capacity = 1\n",
    "        self.A = self.make_array(self.capacity)\n",
    "    \n",
    "    def __len__(self):\n",
    "        return self.n\n",
    "    \n",
    "    def __getitem__(self,k):\n",
    "        \n",
    "        if not 0 <= k < self.n:\n",
    "            return IndexError('k is out of bounds!')\n",
    "        \n",
    "        return self.A[k]  #什么意思\n",
    "    \n",
    "    def append(self,ele):\n",
    "        \n",
    "        if self.n == self.capacity:\n",
    "            self._resize(2*self.capacity)\n",
    "        \n",
    "        self.A[self.n] = ele\n",
    "        self.n +=1\n",
    "    \n",
    "    def _resize(self,new_cap):\n",
    "        \n",
    "        B = self.make_array(new_cap)\n",
    "        \n",
    "        for k in range(self.n):\n",
    "            \n",
    "            B[k]= self.A[k]\n",
    "            \n",
    "        self.A = B\n",
    "        self.capacity = new_cap\n",
    "      \n",
    "    def make_array(self,new_cap):\n",
    "        \n",
    "        return (new_cap * ctypes.py_object)()"
   ]
  },
  {
   "cell_type": "code",
   "execution_count": 17,
   "metadata": {},
   "outputs": [],
   "source": [
    "arr = DynamicArray()"
   ]
  },
  {
   "cell_type": "code",
   "execution_count": 18,
   "metadata": {},
   "outputs": [],
   "source": [
    "arr.append(2)"
   ]
  },
  {
   "cell_type": "code",
   "execution_count": 19,
   "metadata": {},
   "outputs": [
    {
     "data": {
      "text/plain": [
       "1"
      ]
     },
     "execution_count": 19,
     "metadata": {},
     "output_type": "execute_result"
    }
   ],
   "source": [
    "len(arr)"
   ]
  },
  {
   "cell_type": "code",
   "execution_count": 20,
   "metadata": {},
   "outputs": [],
   "source": [
    "arr.append(1)"
   ]
  },
  {
   "cell_type": "code",
   "execution_count": 21,
   "metadata": {},
   "outputs": [
    {
     "data": {
      "text/plain": [
       "2"
      ]
     },
     "execution_count": 21,
     "metadata": {},
     "output_type": "execute_result"
    }
   ],
   "source": [
    "len(arr)"
   ]
  },
  {
   "cell_type": "code",
   "execution_count": 22,
   "metadata": {},
   "outputs": [],
   "source": [
    "arr.append(4)"
   ]
  },
  {
   "cell_type": "code",
   "execution_count": 23,
   "metadata": {},
   "outputs": [
    {
     "data": {
      "text/plain": [
       "3"
      ]
     },
     "execution_count": 23,
     "metadata": {},
     "output_type": "execute_result"
    }
   ],
   "source": [
    "len(arr)"
   ]
  },
  {
   "cell_type": "code",
   "execution_count": 24,
   "metadata": {},
   "outputs": [],
   "source": [
    "arr.append(9)"
   ]
  },
  {
   "cell_type": "code",
   "execution_count": 25,
   "metadata": {},
   "outputs": [
    {
     "data": {
      "text/plain": [
       "4"
      ]
     },
     "execution_count": 25,
     "metadata": {},
     "output_type": "execute_result"
    }
   ],
   "source": [
    "len(arr)"
   ]
  },
  {
   "cell_type": "code",
   "execution_count": 26,
   "metadata": {},
   "outputs": [],
   "source": [
    "arr.append(88)"
   ]
  },
  {
   "cell_type": "code",
   "execution_count": 27,
   "metadata": {},
   "outputs": [
    {
     "data": {
      "text/plain": [
       "5"
      ]
     },
     "execution_count": 27,
     "metadata": {},
     "output_type": "execute_result"
    }
   ],
   "source": [
    "len(arr)"
   ]
  },
  {
   "cell_type": "code",
   "execution_count": 28,
   "metadata": {},
   "outputs": [],
   "source": [
    "arr.append(2)\n",
    "arr.append(2)\n",
    "arr.append(2)\n",
    "arr.append(2)\n",
    "arr.append(2)\n",
    "arr.append(2)\n",
    "arr.append(2)\n",
    "arr.append(2)"
   ]
  },
  {
   "cell_type": "code",
   "execution_count": 29,
   "metadata": {},
   "outputs": [
    {
     "data": {
      "text/plain": [
       "13"
      ]
     },
     "execution_count": 29,
     "metadata": {},
     "output_type": "execute_result"
    }
   ],
   "source": [
    "len(arr)"
   ]
  },
  {
   "cell_type": "code",
   "execution_count": 30,
   "metadata": {},
   "outputs": [],
   "source": [
    "arr.append(2)\n",
    "arr.append(2)\n",
    "arr.append(2)\n",
    "arr.append(2)\n",
    "arr.append(2)\n",
    "arr.append(2)\n",
    "arr.append(2)\n",
    "arr.append(2)\n",
    "arr.append(2)\n",
    "arr.append(2)\n",
    "arr.append(2)\n",
    "arr.append(2)\n",
    "arr.append(2)\n",
    "arr.append(2)\n",
    "arr.append(2)\n",
    "arr.append(2)\n",
    "arr.append(2)\n",
    "arr.append(2)\n",
    "arr.append(2)\n",
    "arr.append(2)\n",
    "arr.append(2)\n",
    "arr.append(2)\n",
    "arr.append(2)\n",
    "arr.append(2)"
   ]
  },
  {
   "cell_type": "code",
   "execution_count": 31,
   "metadata": {},
   "outputs": [
    {
     "data": {
      "text/plain": [
       "37"
      ]
     },
     "execution_count": 31,
     "metadata": {},
     "output_type": "execute_result"
    }
   ],
   "source": [
    "len(arr)"
   ]
  },
  {
   "cell_type": "code",
   "execution_count": 32,
   "metadata": {},
   "outputs": [],
   "source": [
    "arr.append(2)\n",
    "arr.append(2)\n",
    "arr.append(2)\n",
    "arr.append(2)\n",
    "arr.append(2)\n",
    "arr.append(2)\n",
    "arr.append(2)\n",
    "arr.append(2)\n",
    "arr.append(2)\n",
    "arr.append(2)\n",
    "arr.append(2)\n",
    "arr.append(2)\n",
    "arr.append(2)\n",
    "arr.append(2)\n",
    "arr.append(2)\n",
    "arr.append(2)\n",
    "arr.append(2)\n",
    "arr.append(2)\n",
    "arr.append(2)\n",
    "arr.append(2)\n",
    "arr.append(2)\n",
    "arr.append(2)\n",
    "arr.append(2)\n",
    "arr.append(2)"
   ]
  },
  {
   "cell_type": "code",
   "execution_count": 33,
   "metadata": {},
   "outputs": [
    {
     "data": {
      "text/plain": [
       "61"
      ]
     },
     "execution_count": 33,
     "metadata": {},
     "output_type": "execute_result"
    }
   ],
   "source": [
    "len(arr)"
   ]
  },
  {
   "cell_type": "code",
   "execution_count": 36,
   "metadata": {},
   "outputs": [],
   "source": [
    "stringA= 'I need a nap.'\n",
    "stringA= stringA.lower()"
   ]
  },
  {
   "cell_type": "code",
   "execution_count": 37,
   "metadata": {},
   "outputs": [
    {
     "name": "stdout",
     "output_type": "stream",
     "text": [
      "i need a nap.\n"
     ]
    }
   ],
   "source": [
    "print(stringA)"
   ]
  },
  {
   "cell_type": "code",
   "execution_count": null,
   "metadata": {},
   "outputs": [],
   "source": []
  }
 ],
 "metadata": {
  "kernelspec": {
   "display_name": "Python 3",
   "language": "python",
   "name": "python3"
  },
  "language_info": {
   "codemirror_mode": {
    "name": "ipython",
    "version": 3
   },
   "file_extension": ".py",
   "mimetype": "text/x-python",
   "name": "python",
   "nbconvert_exporter": "python",
   "pygments_lexer": "ipython3",
   "version": "3.8.5"
  }
 },
 "nbformat": 4,
 "nbformat_minor": 4
}
